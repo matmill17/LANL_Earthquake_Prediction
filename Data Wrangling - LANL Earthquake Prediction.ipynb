{
 "cells": [
  {
   "cell_type": "code",
   "execution_count": 23,
   "id": "4f2a93e1",
   "metadata": {},
   "outputs": [],
   "source": [
    "import pandas as pd\n",
    "import numpy as np\n",
    "import matplotlib.pyplot as plt\n",
    "%matplotlib inline"
   ]
  },
  {
   "cell_type": "code",
   "execution_count": 2,
   "id": "b71ae262",
   "metadata": {},
   "outputs": [
    {
     "name": "stdout",
     "output_type": "stream",
     "text": [
      "Wall time: 3min 6s\n"
     ]
    }
   ],
   "source": [
    "%%time\n",
    "df = pd.read_csv(\"C:/Users/matmi/OneDrive/Documents/LANL_Earthquake_Prediction/train.csv/train.csv\")"
   ]
  },
  {
   "cell_type": "code",
   "execution_count": 3,
   "id": "c7642c05",
   "metadata": {},
   "outputs": [
    {
     "data": {
      "text/plain": [
       "(629145480, 2)"
      ]
     },
     "execution_count": 3,
     "metadata": {},
     "output_type": "execute_result"
    }
   ],
   "source": [
    "df.shape"
   ]
  },
  {
   "cell_type": "code",
   "execution_count": 4,
   "id": "4fd726aa",
   "metadata": {
    "scrolled": true
   },
   "outputs": [
    {
     "data": {
      "text/html": [
       "<div>\n",
       "<style scoped>\n",
       "    .dataframe tbody tr th:only-of-type {\n",
       "        vertical-align: middle;\n",
       "    }\n",
       "\n",
       "    .dataframe tbody tr th {\n",
       "        vertical-align: top;\n",
       "    }\n",
       "\n",
       "    .dataframe thead th {\n",
       "        text-align: right;\n",
       "    }\n",
       "</style>\n",
       "<table border=\"1\" class=\"dataframe\">\n",
       "  <thead>\n",
       "    <tr style=\"text-align: right;\">\n",
       "      <th></th>\n",
       "      <th>acoustic_data</th>\n",
       "      <th>time_to_failure</th>\n",
       "    </tr>\n",
       "  </thead>\n",
       "  <tbody>\n",
       "    <tr>\n",
       "      <th>0</th>\n",
       "      <td>12</td>\n",
       "      <td>1.469099983200000014704756</td>\n",
       "    </tr>\n",
       "    <tr>\n",
       "      <th>1</th>\n",
       "      <td>6</td>\n",
       "      <td>1.469099982099999923690348</td>\n",
       "    </tr>\n",
       "    <tr>\n",
       "      <th>2</th>\n",
       "      <td>8</td>\n",
       "      <td>1.469099981000000054720545</td>\n",
       "    </tr>\n",
       "    <tr>\n",
       "      <th>3</th>\n",
       "      <td>5</td>\n",
       "      <td>1.469099979899999963706136</td>\n",
       "    </tr>\n",
       "    <tr>\n",
       "      <th>4</th>\n",
       "      <td>8</td>\n",
       "      <td>1.469099978800000094736333</td>\n",
       "    </tr>\n",
       "    <tr>\n",
       "      <th>5</th>\n",
       "      <td>8</td>\n",
       "      <td>1.469099977700000003721925</td>\n",
       "    </tr>\n",
       "    <tr>\n",
       "      <th>6</th>\n",
       "      <td>9</td>\n",
       "      <td>1.469099976599999912707517</td>\n",
       "    </tr>\n",
       "    <tr>\n",
       "      <th>7</th>\n",
       "      <td>7</td>\n",
       "      <td>1.469099975500000043737714</td>\n",
       "    </tr>\n",
       "    <tr>\n",
       "      <th>8</th>\n",
       "      <td>-5</td>\n",
       "      <td>1.469099974399999952723306</td>\n",
       "    </tr>\n",
       "    <tr>\n",
       "      <th>9</th>\n",
       "      <td>3</td>\n",
       "      <td>1.469099973300000083753503</td>\n",
       "    </tr>\n",
       "  </tbody>\n",
       "</table>\n",
       "</div>"
      ],
      "text/plain": [
       "   acoustic_data             time_to_failure\n",
       "0             12  1.469099983200000014704756\n",
       "1              6  1.469099982099999923690348\n",
       "2              8  1.469099981000000054720545\n",
       "3              5  1.469099979899999963706136\n",
       "4              8  1.469099978800000094736333\n",
       "5              8  1.469099977700000003721925\n",
       "6              9  1.469099976599999912707517\n",
       "7              7  1.469099975500000043737714\n",
       "8             -5  1.469099974399999952723306\n",
       "9              3  1.469099973300000083753503"
      ]
     },
     "execution_count": 4,
     "metadata": {},
     "output_type": "execute_result"
    }
   ],
   "source": [
    "pd.set_option(\"display.precision\", 24)\n",
    "df.head(10)"
   ]
  },
  {
   "cell_type": "code",
   "execution_count": 5,
   "id": "533a6413",
   "metadata": {
    "scrolled": true
   },
   "outputs": [
    {
     "name": "stdout",
     "output_type": "stream",
     "text": [
      "Wall time: 3min 30s\n"
     ]
    },
    {
     "data": {
      "text/html": [
       "<div>\n",
       "<style scoped>\n",
       "    .dataframe tbody tr th:only-of-type {\n",
       "        vertical-align: middle;\n",
       "    }\n",
       "\n",
       "    .dataframe tbody tr th {\n",
       "        vertical-align: top;\n",
       "    }\n",
       "\n",
       "    .dataframe thead th {\n",
       "        text-align: right;\n",
       "    }\n",
       "</style>\n",
       "<table border=\"1\" class=\"dataframe\">\n",
       "  <thead>\n",
       "    <tr style=\"text-align: right;\">\n",
       "      <th></th>\n",
       "      <th>acoustic_data</th>\n",
       "      <th>time_to_failure</th>\n",
       "    </tr>\n",
       "  </thead>\n",
       "  <tbody>\n",
       "    <tr>\n",
       "      <th>count</th>\n",
       "      <td>6.291454800000000000000000e+08</td>\n",
       "      <td>6.291454800000000000000000e+08</td>\n",
       "    </tr>\n",
       "    <tr>\n",
       "      <th>mean</th>\n",
       "      <td>4.519467573700124418678570e+00</td>\n",
       "      <td>5.678291712978240646236827e+00</td>\n",
       "    </tr>\n",
       "    <tr>\n",
       "      <th>std</th>\n",
       "      <td>1.073570724850370794456467e+01</td>\n",
       "      <td>3.672696519446868812508455e+00</td>\n",
       "    </tr>\n",
       "    <tr>\n",
       "      <th>min</th>\n",
       "      <td>-5.515000000000000000000000e+03</td>\n",
       "      <td>9.550396316599999693621598e-05</td>\n",
       "    </tr>\n",
       "    <tr>\n",
       "      <th>25%</th>\n",
       "      <td>2.000000000000000000000000e+00</td>\n",
       "      <td>2.625996996050000031885929e+00</td>\n",
       "    </tr>\n",
       "    <tr>\n",
       "      <th>50%</th>\n",
       "      <td>5.000000000000000000000000e+00</td>\n",
       "      <td>5.349797741249999738499810e+00</td>\n",
       "    </tr>\n",
       "    <tr>\n",
       "      <th>75%</th>\n",
       "      <td>7.000000000000000000000000e+00</td>\n",
       "      <td>8.173395507775000012884448e+00</td>\n",
       "    </tr>\n",
       "    <tr>\n",
       "      <th>max</th>\n",
       "      <td>5.444000000000000000000000e+03</td>\n",
       "      <td>1.610739999999999838564690e+01</td>\n",
       "    </tr>\n",
       "  </tbody>\n",
       "</table>\n",
       "</div>"
      ],
      "text/plain": [
       "                        acoustic_data                 time_to_failure\n",
       "count  6.291454800000000000000000e+08  6.291454800000000000000000e+08\n",
       "mean   4.519467573700124418678570e+00  5.678291712978240646236827e+00\n",
       "std    1.073570724850370794456467e+01  3.672696519446868812508455e+00\n",
       "min   -5.515000000000000000000000e+03  9.550396316599999693621598e-05\n",
       "25%    2.000000000000000000000000e+00  2.625996996050000031885929e+00\n",
       "50%    5.000000000000000000000000e+00  5.349797741249999738499810e+00\n",
       "75%    7.000000000000000000000000e+00  8.173395507775000012884448e+00\n",
       "max    5.444000000000000000000000e+03  1.610739999999999838564690e+01"
      ]
     },
     "execution_count": 5,
     "metadata": {},
     "output_type": "execute_result"
    }
   ],
   "source": [
    "%%time\n",
    "df.describe()"
   ]
  },
  {
   "cell_type": "code",
   "execution_count": 6,
   "id": "487870a9",
   "metadata": {},
   "outputs": [
    {
     "name": "stdout",
     "output_type": "stream",
     "text": [
      "<class 'pandas.core.frame.DataFrame'>\n",
      "RangeIndex: 629145480 entries, 0 to 629145479\n",
      "Data columns (total 2 columns):\n",
      " #   Column           Dtype  \n",
      "---  ------           -----  \n",
      " 0   acoustic_data    int64  \n",
      " 1   time_to_failure  float64\n",
      "dtypes: float64(1), int64(1)\n",
      "memory usage: 9.4 GB\n",
      "Wall time: 92.7 ms\n"
     ]
    }
   ],
   "source": [
    "%%time\n",
    "df.info()"
   ]
  },
  {
   "cell_type": "code",
   "execution_count": 19,
   "id": "2a2de1f6",
   "metadata": {},
   "outputs": [],
   "source": [
    "# .values[::100] changes the df column to a numpy array, but not sure the use of [::100]\n",
    "train_acoustic_arr = df['acoustic_data'].values[::100]\n",
    "time_to_failure_arr = df['time_to_failure'].values[::100]"
   ]
  },
  {
   "cell_type": "code",
   "execution_count": 8,
   "id": "4833f2a0",
   "metadata": {},
   "outputs": [
    {
     "name": "stdout",
     "output_type": "stream",
     "text": [
      "Wall time: 24.3 s\n"
     ]
    },
    {
     "data": {
      "text/plain": [
       "acoustic_data      0\n",
       "time_to_failure    0\n",
       "dtype: int64"
      ]
     },
     "execution_count": 8,
     "metadata": {},
     "output_type": "execute_result"
    }
   ],
   "source": [
    "%%time\n",
    "df.isnull().sum()"
   ]
  },
  {
   "cell_type": "code",
   "execution_count": 9,
   "id": "da630d95",
   "metadata": {},
   "outputs": [
    {
     "name": "stdout",
     "output_type": "stream",
     "text": [
      "Wall time: 0 ns\n"
     ]
    },
    {
     "data": {
      "text/plain": [
       "4194.3032"
      ]
     },
     "execution_count": 9,
     "metadata": {},
     "output_type": "execute_result"
    }
   ],
   "source": [
    "%%time\n",
    "len(df)/150000"
   ]
  },
  {
   "cell_type": "code",
   "execution_count": 10,
   "id": "049de22b",
   "metadata": {},
   "outputs": [
    {
     "name": "stdout",
     "output_type": "stream",
     "text": [
      "Wall time: 1e+03 µs\n"
     ]
    },
    {
     "data": {
      "text/plain": [
       "acoustic_data      6.000000000000000000000000\n",
       "time_to_failure    1.469099982099999923690348\n",
       "Name: 1, dtype: float64"
      ]
     },
     "execution_count": 10,
     "metadata": {},
     "output_type": "execute_result"
    }
   ],
   "source": [
    "%%time\n",
    "df.iloc[1]"
   ]
  },
  {
   "cell_type": "code",
   "execution_count": 11,
   "id": "3aa9aa3d",
   "metadata": {},
   "outputs": [
    {
     "name": "stdout",
     "output_type": "stream",
     "text": [
      "1.4690999832\n",
      "1.4690999821\n",
      "1.469099981\n",
      "1.4690999799\n",
      "1.4690999788\n",
      "Wall time: 2 ms\n"
     ]
    }
   ],
   "source": [
    "%%time\n",
    "for i in range(5):\n",
    "    print(df.time_to_failure.values[i])"
   ]
  },
  {
   "cell_type": "code",
   "execution_count": 12,
   "id": "9f255089",
   "metadata": {
    "scrolled": false
   },
   "outputs": [
    {
     "name": "stdout",
     "output_type": "stream",
     "text": [
      "Wall time: 1 ms\n"
     ]
    },
    {
     "data": {
      "text/html": [
       "<div>\n",
       "<style scoped>\n",
       "    .dataframe tbody tr th:only-of-type {\n",
       "        vertical-align: middle;\n",
       "    }\n",
       "\n",
       "    .dataframe tbody tr th {\n",
       "        vertical-align: top;\n",
       "    }\n",
       "\n",
       "    .dataframe thead th {\n",
       "        text-align: right;\n",
       "    }\n",
       "</style>\n",
       "<table border=\"1\" class=\"dataframe\">\n",
       "  <thead>\n",
       "    <tr style=\"text-align: right;\">\n",
       "      <th></th>\n",
       "      <th>acoustic_data</th>\n",
       "      <th>time_to_failure</th>\n",
       "    </tr>\n",
       "  </thead>\n",
       "  <tbody>\n",
       "    <tr>\n",
       "      <th>621985672</th>\n",
       "      <td>10</td>\n",
       "      <td>0.000595512439299999995525</td>\n",
       "    </tr>\n",
       "    <tr>\n",
       "      <th>621985673</th>\n",
       "      <td>2</td>\n",
       "      <td>11.618600019000000500568603</td>\n",
       "    </tr>\n",
       "  </tbody>\n",
       "</table>\n",
       "</div>"
      ],
      "text/plain": [
       "           acoustic_data              time_to_failure\n",
       "621985672             10   0.000595512439299999995525\n",
       "621985673              2  11.618600019000000500568603"
      ]
     },
     "execution_count": 12,
     "metadata": {},
     "output_type": "execute_result"
    }
   ],
   "source": [
    "%%time\n",
    "df.iloc[621985672:621985674]"
   ]
  },
  {
   "cell_type": "markdown",
   "id": "8a903e11",
   "metadata": {},
   "source": [
    "# Calculate the rolling difference of the time to failure to identify the step increases in value (delta_ttf>0), which indicate an experimental earthquake. Based on the "
   ]
  },
  {
   "cell_type": "code",
   "execution_count": 13,
   "id": "b45cb484",
   "metadata": {
    "scrolled": true
   },
   "outputs": [
    {
     "name": "stdout",
     "output_type": "stream",
     "text": [
      "Wall time: 2.81 s\n"
     ]
    },
    {
     "data": {
      "text/plain": [
       "0                           NaN\n",
       "1   -0.000000001100000091014408\n",
       "2   -0.000000001099999868969803\n",
       "3   -0.000000001100000091014408\n",
       "4   -0.000000001099999868969803\n",
       "5   -0.000000001100000091014408\n",
       "6   -0.000000001100000091014408\n",
       "7   -0.000000001099999868969803\n",
       "8   -0.000000001100000091014408\n",
       "9   -0.000000001099999868969803\n",
       "Name: time_to_failure, dtype: float64"
      ]
     },
     "execution_count": 13,
     "metadata": {},
     "output_type": "execute_result"
    }
   ],
   "source": [
    "%%time\n",
    "df_diff = df.time_to_failure.diff()\n",
    "df_diff.head(10)\n"
   ]
  },
  {
   "cell_type": "code",
   "execution_count": 14,
   "id": "7a322975",
   "metadata": {},
   "outputs": [
    {
     "data": {
      "text/plain": [
       "629145480"
      ]
     },
     "execution_count": 14,
     "metadata": {},
     "output_type": "execute_result"
    }
   ],
   "source": [
    "len(df_diff)"
   ]
  },
  {
   "cell_type": "code",
   "execution_count": 15,
   "id": "b3f9b3cb",
   "metadata": {},
   "outputs": [],
   "source": [
    "quake_ind = df_diff.loc[df_diff > 0]"
   ]
  },
  {
   "cell_type": "code",
   "execution_count": 16,
   "id": "e170633a",
   "metadata": {},
   "outputs": [
    {
     "data": {
      "text/plain": [
       "5656574      11.540004507177050285804398\n",
       "50085878     14.179904507825289883271580\n",
       "104677356     8.855904506336079506922943\n",
       "138772453    12.692904507131899549676746\n",
       "187641820     8.054904506145900811020510\n",
       "218652630     7.057904505904599723464798\n",
       "245829585    16.106904507467007192644814\n",
       "307838917     7.904904506085149940020074\n",
       "338276287     9.636904506474079923350473\n",
       "375377848    11.425904506611239241919975\n",
       "419368880    11.024004506283079152240134\n",
       "461811623     8.828004506336833756563465\n",
       "495800225     8.565904506238307902776796\n",
       "528777115    14.750904507492730743933862\n",
       "585568144     9.458904506387009192280857\n",
       "621985673    11.618004506560700050954438\n",
       "Name: time_to_failure, dtype: float64"
      ]
     },
     "execution_count": 16,
     "metadata": {},
     "output_type": "execute_result"
    }
   ],
   "source": [
    "quake_ind"
   ]
  },
  {
   "cell_type": "code",
   "execution_count": 17,
   "id": "765478dc",
   "metadata": {},
   "outputs": [
    {
     "data": {
      "text/plain": [
       "16"
      ]
     },
     "execution_count": 17,
     "metadata": {},
     "output_type": "execute_result"
    }
   ],
   "source": [
    "len(quake_ind)"
   ]
  },
  {
   "cell_type": "code",
   "execution_count": 29,
   "id": "9f1b3b64",
   "metadata": {},
   "outputs": [
    {
     "data": {
      "image/png": "[encoded data removed]",
      "text/plain": [
       "<Figure size 1152x576 with 2 Axes>"
      ]
     },
     "metadata": {
      "needs_background": "light"
     },
     "output_type": "display_data"
    }
   ],
   "source": [
    "fig, ax1 = plt.subplots(figsize=(16,8))\n",
    "plt.title(\"Trends of acoustic_data and time_to_failure\")\n",
    "plt.plot(train_acoustic_arr, color='b')\n",
    "ax1.set_ylabel('acoustic_data', color='b')\n",
    "plt.legend(['acoustic_data'])\n",
    "ax2=ax1.twinx()\n",
    "plt.plot(time_to_failure_arr, color='r')\n",
    "ax2.set_ylabel('time_to_failure', color='r')\n",
    "plt.legend(['time_to_failure'], loc=(0.87,0.9))\n",
    "plt.grid(False)\n"
   ]
  },
  {
   "cell_type": "code",
   "execution_count": null,
   "id": "2e2c7337",
   "metadata": {},
   "outputs": [],
   "source": [
    "window_sizes = [14, 28, 56, 112, 224, 448, 896]\n",
    "for wind in window_sizes:\n",
    "    df['sm_avg_ser' + str(wind)] = df['acoustic_data'].rolling(window=wind).mean()\n",
    "    df['sm_std_ser' + str(wind)] = df['time_to_failure'].rolling(window=wind).std()"
   ]
  },
  {
   "cell_type": "code",
   "execution_count": null,
   "id": "d38c1c2f",
   "metadata": {},
   "outputs": [],
   "source": [
    "plt.plot(df['sm_avg_ser'])"
   ]
  },
  {
   "cell_type": "code",
   "execution_count": null,
   "id": "6cf4db1c",
   "metadata": {},
   "outputs": [],
   "source": [
    "df['rolling_q25'] = df['acoustic_data'].rolling(window=56).quantile(25)\n",
    "df['rolling_q50'] \n",
    "df['rolling_q75']\n",
    "df['rolling_iqr']\n",
    "df['rolling_min']\n",
    "df['rolling_max']\n",
    "df['rolling_kurtosis']\n",
    "df['rolling_skew']"
   ]
  },
  {
   "cell_type": "code",
   "execution_count": null,
   "id": "362049fc",
   "metadata": {},
   "outputs": [],
   "source": []
  }
 ],
 "metadata": {
  "kernelspec": {
   "display_name": "Python 3 (ipykernel)",
   "language": "python",
   "name": "python3"
  },
  "language_info": {
   "codemirror_mode": {
    "name": "ipython",
    "version": 3
   },
   "file_extension": ".py",
   "mimetype": "text/x-python",
   "name": "python",
   "nbconvert_exporter": "python",
   "pygments_lexer": "ipython3",
   "version": "3.9.7"
  }
 },
 "nbformat": 4,
 "nbformat_minor": 5
}
